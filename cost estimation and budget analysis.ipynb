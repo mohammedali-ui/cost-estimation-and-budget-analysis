{
 "cells": [
  {
   "cell_type": "code",
   "execution_count": null,
   "metadata": {},
   "outputs": [],
   "source": [
    "import matplotlib.pyplot as plt\n",
    "labels = ['Marketing', 'R&D', 'Operations', 'HR',\n",
    "'Miscellaneous']\n",
    "sizes = [25, 30, 20, 15, 10]\n",
    "fig1, ax1 = plt.subplots()\n",
    "ax1.pie(sizes, labels=labels, autopct='%1.1f%%',\n",
    "startangle=90)\n",
    "ax1.axis('equal')\n",
    "plt.show()"
   ]
  },
  {
   "cell_type": "code",
   "execution_count": null,
   "metadata": {},
   "outputs": [],
   "source": [
    "import matplotlib.pyplot as plt\n",
    "departments = ['Marketing', 'R&D','Operations', 'HR', 'IT']\n",
    "cost = [12000, 15000, 10000, 8000, 9000]\n",
    "fig2,ax2 = plt.subplots()\n",
    "ax2.bar( departments,cost,color='skyblue')\n",
    "ax2.set_ylabel('Cost in USD')\n",
    "ax2.set_title('Department-wise Cost Estimation')\n",
    "plt.show()"
   ]
  }
 ],
 "metadata": {
  "kernelspec": {
   "display_name": "base",
   "language": "python",
   "name": "python3"
  },
  "language_info": {
   "codemirror_mode": {
    "name": "ipython",
    "version": 3
   },
   "file_extension": ".py",
   "mimetype": "text/x-python",
   "name": "python",
   "nbconvert_exporter": "python",
   "pygments_lexer": "ipython3",
   "version": "3.12.7"
  }
 },
 "nbformat": 4,
 "nbformat_minor": 2
}
